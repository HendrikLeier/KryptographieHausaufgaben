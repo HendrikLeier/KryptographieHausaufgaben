{
 "cells": [
  {
   "cell_type": "code",
   "execution_count": 7,
   "metadata": {},
   "outputs": [],
   "source": [
    "def get_vigenere_table():\n",
    "    return [[chr(ord('A')+ (i + offset) % 26) for i in range(26)] for offset in range(26)]"
   ]
  },
  {
   "cell_type": "code",
   "execution_count": 13,
   "metadata": {},
   "outputs": [],
   "source": [
    "def get_from_table(key, value, table):\n",
    "    return table[ord(key)-ord('A')][ord(value)-ord('A')]"
   ]
  },
  {
   "cell_type": "code",
   "execution_count": 15,
   "metadata": {},
   "outputs": [
    {
     "data": {
      "text/plain": [
       "'K'"
      ]
     },
     "execution_count": 15,
     "metadata": {},
     "output_type": "execute_result"
    }
   ],
   "source": [
    "tbl = get_vigenere_table()\n",
    "get_from_table('B', 'J', tbl)"
   ]
  },
  {
   "cell_type": "code",
   "execution_count": 19,
   "metadata": {},
   "outputs": [],
   "source": [
    "key = \"CODE\"\n",
    "content = \"Kryptographie\".upper()"
   ]
  },
  {
   "cell_type": "code",
   "execution_count": 20,
   "metadata": {},
   "outputs": [],
   "source": [
    "def encrypt_vignere(key, content):\n",
    "    table = get_vigenere_table()\n",
    "    result = \"\"\n",
    "    for i in range(len(content)):\n",
    "        lkey = key[i % len(key)]\n",
    "        encrypted = get_from_table(lkey, content[i], table)\n",
    "        result += encrypted\n",
    "    \n",
    "    return result"
   ]
  },
  {
   "cell_type": "code",
   "execution_count": 164,
   "metadata": {},
   "outputs": [],
   "source": [
    "def decrypt_vignere(key, encrypted):\n",
    "    table = get_vigenere_table()\n",
    "    result = \"\"\n",
    "    for i in range(len(encrypted)):\n",
    "        lkey = key[i % len(key)]\n",
    "        decrypted = reverse_lookup_table(lkey, encrypted[i], table)\n",
    "        result += decrypted\n",
    "    return result"
   ]
  },
  {
   "cell_type": "code",
   "execution_count": 165,
   "metadata": {},
   "outputs": [],
   "source": [
    "enc = encrypt_vignere(key, content)"
   ]
  },
  {
   "cell_type": "code",
   "execution_count": 163,
   "metadata": {},
   "outputs": [
    {
     "data": {
      "text/plain": [
       "'MFBTVCJVCDKMG'"
      ]
     },
     "execution_count": 163,
     "metadata": {},
     "output_type": "execute_result"
    }
   ],
   "source": [
    "enc"
   ]
  },
  {
   "cell_type": "code",
   "execution_count": 166,
   "metadata": {},
   "outputs": [
    {
     "data": {
      "text/plain": [
       "'KRYPTOGRAPHIE'"
      ]
     },
     "execution_count": 166,
     "metadata": {},
     "output_type": "execute_result"
    }
   ],
   "source": [
    "decrypt_vignere(key, enc)"
   ]
  },
  {
   "cell_type": "code",
   "execution_count": 23,
   "metadata": {},
   "outputs": [],
   "source": [
    "import math\n",
    "import functools"
   ]
  },
  {
   "cell_type": "code",
   "execution_count": 24,
   "metadata": {},
   "outputs": [],
   "source": [
    "def get_ggt_for_list(list_):\n",
    "    return functools.reduce(lambda x, y: math.gcd(x, y), list_)"
   ]
  },
  {
   "cell_type": "code",
   "execution_count": 26,
   "metadata": {},
   "outputs": [
    {
     "data": {
      "text/plain": [
       "5"
      ]
     },
     "execution_count": 26,
     "metadata": {},
     "output_type": "execute_result"
    }
   ],
   "source": [
    "get_ggt_for_list([50, 265, 95, 75])"
   ]
  },
  {
   "cell_type": "code",
   "execution_count": 40,
   "metadata": {},
   "outputs": [],
   "source": [
    "def get_occurences_per_class(nr_classes, text):\n",
    "    classes = [{chr(l + ord('A')): 0 for l in range(26)} for _ in range(nr_classes)]\n",
    "    \n",
    "    for i, l in enumerate(text):\n",
    "        classes[i%nr_classes][l] += 1\n",
    "    \n",
    "    results = [{} for _ in range(nr_classes)]\n",
    "    \n",
    "    for i in range(nr_classes):\n",
    "        for k, v in reversed(sorted(classes[i].items(), key=lambda item: item[1])):\n",
    "            if v not in results[i]:\n",
    "                results[i][v] = []\n",
    "            results[i][v].append(k)\n",
    "        \n",
    "    return results\n",
    "    "
   ]
  },
  {
   "cell_type": "code",
   "execution_count": 41,
   "metadata": {
    "collapsed": true,
    "jupyter": {
     "outputs_hidden": true
    }
   },
   "outputs": [
    {
     "data": {
      "text/plain": [
       "[{3: ['S', 'H', 'G'],\n",
       "  2: ['T', 'D'],\n",
       "  1: ['Z', 'V', 'F'],\n",
       "  0: ['Y',\n",
       "   'X',\n",
       "   'W',\n",
       "   'U',\n",
       "   'R',\n",
       "   'Q',\n",
       "   'P',\n",
       "   'O',\n",
       "   'N',\n",
       "   'M',\n",
       "   'L',\n",
       "   'K',\n",
       "   'J',\n",
       "   'I',\n",
       "   'E',\n",
       "   'C',\n",
       "   'B',\n",
       "   'A']},\n",
       " {4: ['D'],\n",
       "  2: ['J', 'F', 'E'],\n",
       "  1: ['V', 'U', 'S', 'H', 'G', 'C'],\n",
       "  0: ['Z',\n",
       "   'Y',\n",
       "   'X',\n",
       "   'W',\n",
       "   'T',\n",
       "   'R',\n",
       "   'Q',\n",
       "   'P',\n",
       "   'O',\n",
       "   'N',\n",
       "   'M',\n",
       "   'L',\n",
       "   'K',\n",
       "   'I',\n",
       "   'B',\n",
       "   'A']},\n",
       " {5: ['D'],\n",
       "  4: ['S'],\n",
       "  1: ['W', 'V', 'U', 'K', 'J', 'H', 'C'],\n",
       "  0: ['Z',\n",
       "   'Y',\n",
       "   'X',\n",
       "   'T',\n",
       "   'R',\n",
       "   'Q',\n",
       "   'P',\n",
       "   'O',\n",
       "   'N',\n",
       "   'M',\n",
       "   'L',\n",
       "   'I',\n",
       "   'G',\n",
       "   'F',\n",
       "   'E',\n",
       "   'B',\n",
       "   'A']},\n",
       " {3: ['J', 'C'],\n",
       "  2: ['V', 'F'],\n",
       "  1: ['Z', 'W', 'U', 'H', 'G', 'D'],\n",
       "  0: ['Y',\n",
       "   'X',\n",
       "   'T',\n",
       "   'S',\n",
       "   'R',\n",
       "   'Q',\n",
       "   'P',\n",
       "   'O',\n",
       "   'N',\n",
       "   'M',\n",
       "   'L',\n",
       "   'K',\n",
       "   'I',\n",
       "   'E',\n",
       "   'B',\n",
       "   'A']},\n",
       " {3: ['F', 'C'],\n",
       "  2: ['Z'],\n",
       "  1: ['T', 'S', 'K', 'J', 'G', 'D', 'A'],\n",
       "  0: ['Y',\n",
       "   'X',\n",
       "   'W',\n",
       "   'V',\n",
       "   'U',\n",
       "   'R',\n",
       "   'Q',\n",
       "   'P',\n",
       "   'O',\n",
       "   'N',\n",
       "   'M',\n",
       "   'L',\n",
       "   'I',\n",
       "   'H',\n",
       "   'E',\n",
       "   'B']}]"
      ]
     },
     "execution_count": 41,
     "metadata": {},
     "output_type": "execute_result"
    }
   ],
   "source": [
    "get_occurences_per_class(5, \"tsdfcdfscjhgdjzgdsjchvdjghddfzteuwcfdshkgjcvdshjgfgewutzfvcsdckdasjhvfsudzfvdsc\".upper())"
   ]
  },
  {
   "cell_type": "code",
   "execution_count": 81,
   "metadata": {},
   "outputs": [],
   "source": [
    "text = \"EYRYCF WL JH FHSI U BHMJ O UCS EG TNEER FLJ LVS XMVY SSTKC MI KZS JHZ V B F X MX K P MMV W OZSIA FC RV F TNERH MCGYS OVY VF P NEVH JAO VW UUYJ U FOISH XOVUS F MKRP TWLCI F MWV Z TYOIS UUII SECI Z V S V Y VF PCQUC HYRGO MUWK V BNXVB V HH WI F L MYFF NE VH JAO V W UL YER AYLER VEEKS OCIDCOUXS S LUQ VBF MALF E Y HRT V Y VXS TIVXH EUWJ GJ YARS ILI ER JB V VF BLF V W UHMI V UAI J H PY V KK VLHVB TCIUT S Z XV BJB V VP VY VF G BVI I O V WLEW DB XMS SFEJ G FHF VJ PL W ZS F CRVU F MX V Z MNI RI\".upper()\n",
    "text = ''.join(text.split())"
   ]
  },
  {
   "cell_type": "code",
   "execution_count": 103,
   "metadata": {},
   "outputs": [
    {
     "data": {
      "text/plain": [
       "'YVF'"
      ]
     },
     "execution_count": 103,
     "metadata": {},
     "output_type": "execute_result"
    }
   ],
   "source": [
    "text[301:304]"
   ]
  },
  {
   "cell_type": "code",
   "execution_count": 77,
   "metadata": {},
   "outputs": [],
   "source": [
    "def reverse_lookup_table(key, result_value, table):\n",
    "    return chr(table[ord(key) - ord('A')].index(result_value) + ord('A'))"
   ]
  },
  {
   "cell_type": "code",
   "execution_count": 183,
   "metadata": {},
   "outputs": [],
   "source": [
    "import itertools"
   ]
  },
  {
   "cell_type": "code",
   "execution_count": 195,
   "metadata": {},
   "outputs": [],
   "source": [
    "def get_keyword_from_length(nr_classes, text, most_common_letter_in_lang = 'E', top_n=2):\n",
    "    flawless_text = ''.join(text.upper().split())\n",
    "    table = get_vigenere_table()\n",
    "    \n",
    "    occurences_per_class = get_occurences_per_class(nr_classes, flawless_text)\n",
    "    \n",
    "    # print(occurences_per_class)\n",
    "    \n",
    "    code_word = [[] for _ in range(nr_classes)]\n",
    "    \n",
    "    for i in range(nr_classes):\n",
    "        first_vals = list(itertools.chain.from_iterable(list(occurences_per_class[i].values())[0:top_n]))\n",
    "        # print(first_vals)\n",
    "        for l in first_vals:\n",
    "            code_word[i].append(reverse_lookup_table(most_common_letter_in_lang, l, table))\n",
    "    \n",
    "    return code_word"
   ]
  },
  {
   "cell_type": "code",
   "execution_count": 79,
   "metadata": {},
   "outputs": [
    {
     "data": {
      "text/plain": [
       "[['B'], ['U'], ['E'], ['R'], ['O']]"
      ]
     },
     "execution_count": 79,
     "metadata": {},
     "output_type": "execute_result"
    }
   ],
   "source": [
    "get_keyword_from_length(5, text)"
   ]
  },
  {
   "cell_type": "code",
   "execution_count": 196,
   "metadata": {},
   "outputs": [],
   "source": [
    "def find_same_word_occurences(text, min_len = 3, max_len=15):\n",
    "    \n",
    "    found_substrs = {}\n",
    "    \n",
    "    for i in range(len(text)):\n",
    "        for m in range(min_len, max_len+1, 1):\n",
    "            if i + m > len(text):\n",
    "                break\n",
    "            sub_str = text[i:i+m]\n",
    "            if sub_str not in found_substrs:\n",
    "                found_substrs[sub_str] = []\n",
    "            found_substrs[sub_str].append(i)\n",
    "    \n",
    "    filtered_substrings = {}\n",
    "    included_coordinates = set()\n",
    "    \n",
    "    for k, v in found_substrs.items():\n",
    "        if len(v) > 1 and tuple(v) not in included_coordinates:\n",
    "            filtered_substrings[k] = v\n",
    "            included_coordinates.add(tuple(v))\n",
    "    \n",
    "    return filtered_substrings"
   ]
  },
  {
   "cell_type": "code",
   "execution_count": 197,
   "metadata": {},
   "outputs": [],
   "source": [
    "def get_distances_from_occurences(occurence_dict, min_occ_dist = 2):\n",
    "    results = {}\n",
    "    for entry in occurence_dict.values():\n",
    "        for i, a in enumerate(entry):\n",
    "            for q, b in enumerate(entry):\n",
    "                if (i > q):\n",
    "                    dist = abs(a - b)\n",
    "                    # print(a, b, dist)\n",
    "                    if dist > 0:\n",
    "                        if dist not in results:\n",
    "                            results[dist] = 0\n",
    "                        results[dist] += 1\n",
    "    \n",
    "    filtered_results = {}\n",
    "    \n",
    "    for k, v in results.items():\n",
    "        if v >= min_occ_dist:\n",
    "            filtered_results[k] = v\n",
    "    \n",
    "    return filtered_results\n",
    "                "
   ]
  },
  {
   "cell_type": "code",
   "execution_count": 125,
   "metadata": {},
   "outputs": [],
   "source": [
    "text = \"PY IPJ MHQY W EC JMZ Q X Z ZD A GRDI XU Z CW PYMSY Q H VBW I UI CW OB JEF PINK F L C XK DEY IGS OBI OF P Y Z XW D T N O A T U V W J U A V X E U M J S G Z C E B G Y U L P V U Y J MZ DCWDW ZU CLW DN Z CKF C VCK MHW KF SMYKL FY V BS GZ XBM ZXJ OA ZY I NA BF FWS FC JMZ Q HK KW FC XUW UNE EJ BLRUL UMTRW EC EDW DY JCW MHUOJ WL P ZLA AI KH TCVNS Z H CWS XN VBN A HE OM ZO EN V D Y Z CK U A A KZ DYE L W EWY V G EMMS Y QHV BW PUJCW DHL XY QHLOY Q HUF W DGFO Y QHVBO ALSOF TUSOM ZXJ OA Z F V LW ZELO FRNZ Q V Q LNSK EYE CU TUWD O UX DOFIIC V W\"\n",
    "text = ''.join(text.upper().split())"
   ]
  },
  {
   "cell_type": "code",
   "execution_count": 198,
   "metadata": {},
   "outputs": [
    {
     "data": {
      "text/plain": [
       "'PYIPJMHQYWECJMZQXZZDAGRDIXUZCWPYMSYQHVBWIUICWOBJEFPINKFLCXKDEYIGSOBIOFPYZXWDTNOATUVWJUAVXEUMJSGZCEBGYULPVUYJMZDCWDWZUCLWDNZCKFCVCKMHWKFSMYKLFYVBSGZXBMZXJOAZYINABFFWSFCJMZQHKKWFCXUWUNEEJBLRULUMTRWECEDWDYJCWMHUOJWLPZLAAIKHTCVNSZHCWSXNVBNAHEOMZOENVDYZCKUAAKZDYELWEWYVGEMMSYQHVBWPUJCWDHLXYQHLOYQHUFWDGFOYQHVBOALSOFTUSOMZXJOAZFVLWZELOFRNZQVQLNSKEYECUTUWDOUXDOFIICVW'"
      ]
     },
     "execution_count": 198,
     "metadata": {},
     "output_type": "execute_result"
    }
   ],
   "source": [
    "text"
   ]
  },
  {
   "cell_type": "code",
   "execution_count": 199,
   "metadata": {},
   "outputs": [],
   "source": [
    "def get_key_word(text, min_len=3, max_len=15, min_occ_dist=2, mcl = 'E', top_n=2):\n",
    "    key_word_length = get_ggt_for_list(get_distances_from_occurences(find_same_word_occurences(text, min_len=min_len, max_len=max_len), min_occ_dist=min_occ_dist))\n",
    "    return get_keyword_from_length(key_word_length, text, most_common_letter_in_lang=mcl, top_n=top_n)"
   ]
  },
  {
   "cell_type": "code",
   "execution_count": 200,
   "metadata": {},
   "outputs": [
    {
     "data": {
      "text/plain": [
       "[['V', 'M', 'Z'], ['D', 'U'], ['R', 'F'], ['K', 'Y'], ['S', 'B']]"
      ]
     },
     "execution_count": 200,
     "metadata": {},
     "output_type": "execute_result"
    }
   ],
   "source": [
    "get_key_word(text, top_n=2)"
   ]
  },
  {
   "cell_type": "markdown",
   "metadata": {},
   "source": [
    "-> Murks"
   ]
  },
  {
   "cell_type": "code",
   "execution_count": 188,
   "metadata": {},
   "outputs": [
    {
     "data": {
      "text/plain": [
       "'DERFRANZOESISCHEDIPLOMATQLAISEDEVIGENEREWARSECHSUNDOWANZIGALSERWACHRENDEINERZWEIHAEMRIGENMISSIONINROMAUFDIESCHRIFTENALBERTISSTIESSANFANGSHATTEERAUFGRUNDSEINERDIPLOMATISCHENTAETIGKEITNURPRAKTISCHESINTERESSEANDERKRYPTOGRAPHIEDANNLMALTERVONNEUNUNDDREISSIGJAHRENBESCHLOSSVIGENEREDASSERNUNGENUEGENDVERMOEGENERWORBENHABEUNDSEINLEBENKUENFTIGDERWISSENSCHAFTWIDMENWOLLE'"
      ]
     },
     "execution_count": 188,
     "metadata": {},
     "output_type": "execute_result"
    }
   ],
   "source": [
    "decrypt_vignere(\"MURKS\", text)"
   ]
  }
 ],
 "metadata": {
  "kernelspec": {
   "display_name": "Python 3",
   "language": "python",
   "name": "python3"
  },
  "language_info": {
   "codemirror_mode": {
    "name": "ipython",
    "version": 3
   },
   "file_extension": ".py",
   "mimetype": "text/x-python",
   "name": "python",
   "nbconvert_exporter": "python",
   "pygments_lexer": "ipython3",
   "version": "3.6.8"
  }
 },
 "nbformat": 4,
 "nbformat_minor": 4
}
